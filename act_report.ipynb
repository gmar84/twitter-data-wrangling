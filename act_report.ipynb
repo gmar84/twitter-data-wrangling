{
 "cells": [
  {
   "cell_type": "markdown",
   "metadata": {},
   "source": [
    "## Data Visualization Goal\n",
    "\n",
    "I wanted to see if there was a correlation between the length of a tweet and favorite_count. In other words, I wanted to see if tweets received more favorites the longer the text of the tweet. To do this, I planned to showed a scatter plot with these two columns as the data points."
   ]
  },
  {
   "cell_type": "markdown",
   "metadata": {},
   "source": [
    "## First step - import\n",
    "\n",
    "Before we can visualize the data, we first have to import matplotlib and numpy using the lines below.\n",
    "\n",
    "import numpy as np\n",
    "import matplotlib.pyplot as plt\n",
    "\n",
    "## Plot\n",
    "\n",
    "Next, I used the following code to plot the data on a scatter plot:\n",
    "\n",
    "ax1=df_copy.plot(kind='scatter', x='len_full_text', y='favorite_count', alpha=0.5, figsize=(15,6))\n",
    "\n",
    "I had to play with the parameters of the plot to get a better view of the data. I used alpha of 0.5 to make it easier to see the data points since many of them are in close proximity to one another. And I bumped up the size of the graph using figsize so that there was more room for the data points."
   ]
  },
  {
   "cell_type": "markdown",
   "metadata": {},
   "source": [
    "## Labels\n",
    "\n",
    "Lastly I created x-axis and y-axis labels using the following code:\n",
    "\n",
    "ax1.set_xlabel('len_full_text')\n",
    "ax1.set_ylabel('favorite_count')"
   ]
  },
  {
   "cell_type": "markdown",
   "metadata": {},
   "source": [
    "## Insights\n",
    "\n",
    "From my data wrangling I have learned the following insights:\n",
    "\n",
    "* The most popular dog breed is Golden Retriever\n",
    "\n",
    "* The max rating given is 2195\n",
    "\n",
    "* The mean (or average) of favorite_count is 8080.968564, which rounded is 8081."
   ]
  },
  {
   "cell_type": "code",
   "execution_count": null,
   "metadata": {},
   "outputs": [],
   "source": []
  }
 ],
 "metadata": {
  "kernelspec": {
   "display_name": "Python 3",
   "language": "python",
   "name": "python3"
  },
  "language_info": {
   "codemirror_mode": {
    "name": "ipython",
    "version": 3
   },
   "file_extension": ".py",
   "mimetype": "text/x-python",
   "name": "python",
   "nbconvert_exporter": "python",
   "pygments_lexer": "ipython3",
   "version": "3.6.3"
  }
 },
 "nbformat": 4,
 "nbformat_minor": 2
}
